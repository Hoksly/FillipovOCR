{
 "cells": [
  {
   "cell_type": "code",
   "execution_count": 1,
   "metadata": {
    "executionInfo": {
     "elapsed": 3255,
     "status": "ok",
     "timestamp": 1667603735286,
     "user": {
      "displayName": "ПІ-11 Практики",
      "userId": "07053419194244331719"
     },
     "user_tz": -120
    },
    "id": "chWjgM7MzviK",
    "pycharm": {
     "name": "#%%\n"
    }
   },
   "outputs": [],
   "source": [
    "import numpy as np\n",
    "import tensorflow as tf\n",
    "import tensorflow.keras.layers as tfl\n",
    "\n",
    "from tensorflow.keras import backend as K\n",
    "from tensorflow.keras.preprocessing.image import ImageDataGenerator\n",
    "from tensorflow.keras.applications import InceptionV3\n",
    "from tensorflow.keras.losses import CategoricalCrossentropy\n",
    "from tensorflow.keras.optimizers import Adam"
   ]
  },
  {
   "cell_type": "code",
   "execution_count": 2,
   "metadata": {
    "colab": {
     "base_uri": "https://localhost:8080/"
    },
    "executionInfo": {
     "elapsed": 1790,
     "status": "ok",
     "timestamp": 1667603737062,
     "user": {
      "displayName": "ПІ-11 Практики",
      "userId": "07053419194244331719"
     },
     "user_tz": -120
    },
    "id": "b5ORN9ty5NyX",
    "outputId": "03e22a21-2a92-44d4-b352-f1c2e9b2d275",
    "pycharm": {
     "name": "#%%\n"
    }
   },
   "outputs": [],
   "source": [
    "# для google colab\n",
    "# from google.colab import drive\n",
    "# drive.mount('/content/drive')"
   ]
  },
  {
   "cell_type": "code",
   "execution_count": 3,
   "metadata": {
    "executionInfo": {
     "elapsed": 22,
     "status": "ok",
     "timestamp": 1667603737063,
     "user": {
      "displayName": "ПІ-11 Практики",
      "userId": "07053419194244331719"
     },
     "user_tz": -120
    },
    "id": "WdRESVRrz0X8",
    "pycharm": {
     "name": "#%%\n"
    }
   },
   "outputs": [],
   "source": [
    "# розмір картинки\n",
    "IMG_SIZE = (75, 75)\n",
    "\n",
    "# папка з датасетом у якій підпапки з фотографіями кожного символа \n",
    "# назви класів будуть відповідати іменам підпапок\n",
    "directory = \"images/\""
   ]
  },
  {
   "cell_type": "code",
   "execution_count": 4,
   "metadata": {
    "colab": {
     "base_uri": "https://localhost:8080/"
    },
    "executionInfo": {
     "elapsed": 15,
     "status": "ok",
     "timestamp": 1667603737063,
     "user": {
      "displayName": "ПІ-11 Практики",
      "userId": "07053419194244331719"
     },
     "user_tz": -120
    },
    "id": "0pit3_-fcfhO",
    "outputId": "b9c36bef-ce9e-4b4e-99b5-9c347f01473a",
    "pycharm": {
     "name": "#%%\n"
    }
   },
   "outputs": [
    {
     "name": "stdout",
     "output_type": "stream",
     "text": [
      "Found 286 images belonging to 29 classes.\n",
      "Found 55 images belonging to 29 classes.\n"
     ]
    }
   ],
   "source": [
    "data_generator = ImageDataGenerator(validation_split = 0.2, rescale = 1.0 / 255)\n",
    " \n",
    "# датасет для тренування\n",
    "train = data_generator.flow_from_directory(directory,\n",
    "                                               target_size = IMG_SIZE,\n",
    "                                               class_mode = 'categorical',\n",
    "                                               subset = 'training')\n",
    "\n",
    "# датасет для тестування\n",
    "test = data_generator.flow_from_directory(directory,\n",
    "                                               target_size = IMG_SIZE,\n",
    "                                               class_mode = 'categorical',\n",
    "                                               subset = 'validation')"
   ]
  },
  {
   "cell_type": "code",
   "execution_count": 5,
   "metadata": {
    "executionInfo": {
     "elapsed": 271,
     "status": "ok",
     "timestamp": 1667603792575,
     "user": {
      "displayName": "ПІ-11 Практики",
      "userId": "07053419194244331719"
     },
     "user_tz": -120
    },
    "id": "egHSBZ_l-bzo",
    "pycharm": {
     "name": "#%%\n"
    }
   },
   "outputs": [],
   "source": [
    "def createModel(image_shape = IMG_SIZE):\n",
    "    '''\n",
    "    Аргументи:\n",
    "        image_shape -- ширина та висота картинки\n",
    "    Повертає:\n",
    "        tf.keras.model\n",
    "    '''\n",
    "    input_shape = image_shape + (3,)\n",
    "    \n",
    "    base_model = InceptionV3(input_shape = input_shape,\n",
    "                            include_top = False,\n",
    "                            weights = \"imagenet\",\n",
    "                            classes = 29,\n",
    "                            classifier_activation = \"softmax\")\n",
    "    # заморозимо шари, щоб їх не тренувати\n",
    "    base_model.trainable = False\n",
    "\n",
    "    # вхідний шар\n",
    "    inputs = tf.keras.Input(shape = input_shape) \n",
    "\n",
    "    # для нормалізації інпута [-1;1]\n",
    "    x = tf.keras.applications.inception_v3.preprocess_input(inputs) \n",
    "\n",
    "    x = base_model(x, training = False) \n",
    "    x = tfl.GlobalAveragePooling2D()(x) \n",
    "    x = tfl.Dropout(0.2)(x)\n",
    "    outputs = tfl.Dense(29, activation = \"softmax\")(x)\n",
    "    \n",
    "    model = tf.keras.Model(inputs, outputs)\n",
    "    \n",
    "    return model"
   ]
  },
  {
   "cell_type": "code",
   "execution_count": 6,
   "metadata": {
    "executionInfo": {
     "elapsed": 3484,
     "status": "ok",
     "timestamp": 1667603797104,
     "user": {
      "displayName": "ПІ-11 Практики",
      "userId": "07053419194244331719"
     },
     "user_tz": -120
    },
    "id": "0tWxbnXJ-p7b",
    "pycharm": {
     "name": "#%%\n"
    }
   },
   "outputs": [
    {
     "name": "stderr",
     "output_type": "stream",
     "text": [
      "2022-12-06 13:22:44.352027: I tensorflow/core/common_runtime/pluggable_device/pluggable_device_factory.cc:306] Could not identify NUMA node of platform GPU ID 0, defaulting to 0. Your kernel may not have been built with NUMA support.\n",
      "2022-12-06 13:22:44.352974: I tensorflow/core/common_runtime/pluggable_device/pluggable_device_factory.cc:272] Created TensorFlow device (/job:localhost/replica:0/task:0/device:GPU:0 with 0 MB memory) -> physical PluggableDevice (device: 0, name: METAL, pci bus id: <undefined>)\n"
     ]
    },
    {
     "name": "stdout",
     "output_type": "stream",
     "text": [
      "Metal device set to: Apple M1\n"
     ]
    }
   ],
   "source": [
    "model = createModel(IMG_SIZE)"
   ]
  },
  {
   "cell_type": "code",
   "execution_count": 7,
   "metadata": {
    "pycharm": {
     "name": "#%%\n"
    }
   },
   "outputs": [],
   "source": [
    "# метрики\n",
    "def recall(y_true, y_pred):\n",
    "    true_positives = K.sum(K.round(K.clip(y_true * y_pred, 0, 1)))\n",
    "    possible_positives = K.sum(K.round(K.clip(y_true, 0, 1)))\n",
    "    recall = true_positives / (possible_positives + K.epsilon())\n",
    "    return recall\n",
    "\n",
    "def precision(y_true, y_pred):\n",
    "    true_positives = K.sum(K.round(K.clip(y_true * y_pred, 0, 1)))\n",
    "    predicted_positives = K.sum(K.round(K.clip(y_pred, 0, 1)))\n",
    "    precision = true_positives / (predicted_positives + K.epsilon())\n",
    "    return precision\n",
    "\n",
    "def f1_score(y_true, y_pred):\n",
    "    precision_f1 = precision(y_true, y_pred)\n",
    "    recall_f1 = recall(y_true, y_pred)\n",
    "    return 2 * ((precision_f1 * recall_f1) / (precision_f1 + recall_f1 + K.epsilon()))"
   ]
  },
  {
   "cell_type": "code",
   "execution_count": 8,
   "metadata": {
    "executionInfo": {
     "elapsed": 17,
     "status": "ok",
     "timestamp": 1667603797105,
     "user": {
      "displayName": "ПІ-11 Практики",
      "userId": "07053419194244331719"
     },
     "user_tz": -120
    },
    "id": "kINHN1aD_aEl",
    "pycharm": {
     "name": "#%%\n"
    }
   },
   "outputs": [],
   "source": [
    "base_learning_rate = 0.01\n",
    "\n",
    "initial_epochs = 10\n",
    "\n",
    "loss_function = tf.keras.losses.CategoricalCrossentropy(from_logits = True)\n",
    "optimizer = tf.keras.optimizers.Adam(base_learning_rate)\n",
    "metrics = ['acc', f1_score, precision, recall]"
   ]
  },
  {
   "cell_type": "code",
   "execution_count": 9,
   "metadata": {
    "pycharm": {
     "name": "#%%\n"
    }
   },
   "outputs": [],
   "source": [
    "model.compile(optimizer = optimizer,\n",
    "              loss = loss_function,\n",
    "              metrics = metrics)"
   ]
  },
  {
   "cell_type": "code",
   "execution_count": 10,
   "metadata": {
    "colab": {
     "base_uri": "https://localhost:8080/"
    },
    "executionInfo": {
     "elapsed": 36879,
     "status": "ok",
     "timestamp": 1667603833974,
     "user": {
      "displayName": "ПІ-11 Практики",
      "userId": "07053419194244331719"
     },
     "user_tz": -120
    },
    "id": "GECcF1w__cP2",
    "outputId": "92a4d34a-7523-4b71-e0f1-e1db23e1a3ea",
    "pycharm": {
     "name": "#%%\n"
    }
   },
   "outputs": [
    {
     "name": "stdout",
     "output_type": "stream",
     "text": [
      "Epoch 1/10\n"
     ]
    },
    {
     "name": "stderr",
     "output_type": "stream",
     "text": [
      "2022-12-06 13:22:51.625825: W tensorflow/core/platform/profile_utils/cpu_utils.cc:128] Failed to get CPU frequency: 0 Hz\n",
      "/Users/tylerdurden/opt/miniconda3/envs/tensorflow/lib/python3.9/site-packages/keras/backend.py:5531: UserWarning: \"`categorical_crossentropy` received `from_logits=True`, but the `output` argument was produced by a Softmax activation and thus does not represent logits. Was this intended?\n",
      "  output, from_logits = _get_logits(\n",
      "2022-12-06 13:22:52.821930: I tensorflow/core/grappler/optimizers/custom_graph_optimizer_registry.cc:114] Plugin optimizer for device_type GPU is enabled.\n"
     ]
    },
    {
     "name": "stdout",
     "output_type": "stream",
     "text": [
      "8/9 [=========================>....] - ETA: 0s - loss: 3.7226 - acc: 0.3780 - f1_score: 0.3745 - precision: 0.5060 - recall: 0.3010             "
     ]
    },
    {
     "name": "stderr",
     "output_type": "stream",
     "text": [
      "2022-12-06 13:22:59.052847: I tensorflow/core/grappler/optimizers/custom_graph_optimizer_registry.cc:114] Plugin optimizer for device_type GPU is enabled.\n"
     ]
    },
    {
     "name": "stdout",
     "output_type": "stream",
     "text": [
      "9/9 [==============================] - 8s 283ms/step - loss: 3.5041 - acc: 0.4056 - f1_score: 0.4084 - precision: 0.5450 - recall: 0.3301 - val_loss: 0.7491 - val_acc: 0.8364 - val_f1_score: 0.8113 - val_precision: 0.9244 - val_recall: 0.7228\n",
      "Epoch 2/10\n",
      "9/9 [==============================] - 1s 61ms/step - loss: 1.2882 - acc: 0.7308 - f1_score: 0.7501 - precision: 0.8256 - recall: 0.6900 - val_loss: 0.3016 - val_acc: 0.9091 - val_f1_score: 0.9217 - val_precision: 0.9516 - val_recall: 0.8940\n",
      "Epoch 3/10\n",
      "9/9 [==============================] - 1s 56ms/step - loss: 0.6242 - acc: 0.8881 - f1_score: 0.8815 - precision: 0.9215 - recall: 0.8465 - val_loss: 0.1941 - val_acc: 0.9091 - val_f1_score: 0.9183 - val_precision: 0.9439 - val_recall: 0.8940\n",
      "Epoch 4/10\n",
      "9/9 [==============================] - 1s 58ms/step - loss: 0.3899 - acc: 0.9126 - f1_score: 0.9112 - precision: 0.9436 - recall: 0.8815 - val_loss: 0.1896 - val_acc: 0.9818 - val_f1_score: 0.9762 - val_precision: 0.9839 - val_recall: 0.9688\n",
      "Epoch 5/10\n",
      "9/9 [==============================] - 0s 55ms/step - loss: 0.2444 - acc: 0.9476 - f1_score: 0.9538 - precision: 0.9676 - recall: 0.9407 - val_loss: 0.1414 - val_acc: 0.9818 - val_f1_score: 0.9783 - val_precision: 0.9783 - val_recall: 0.9783\n",
      "Epoch 6/10\n",
      "9/9 [==============================] - 0s 55ms/step - loss: 0.1455 - acc: 0.9580 - f1_score: 0.9589 - precision: 0.9673 - recall: 0.9509 - val_loss: 0.1609 - val_acc: 0.9818 - val_f1_score: 0.9889 - val_precision: 1.0000 - val_recall: 0.9783\n",
      "Epoch 7/10\n",
      "9/9 [==============================] - 0s 55ms/step - loss: 0.1027 - acc: 0.9685 - f1_score: 0.9732 - precision: 0.9823 - recall: 0.9648 - val_loss: 0.1505 - val_acc: 0.9818 - val_f1_score: 0.9844 - val_precision: 0.9844 - val_recall: 0.9844\n",
      "Epoch 8/10\n",
      "9/9 [==============================] - 1s 59ms/step - loss: 0.0712 - acc: 0.9930 - f1_score: 0.9895 - precision: 0.9965 - recall: 0.9826 - val_loss: 0.1638 - val_acc: 0.9818 - val_f1_score: 0.9783 - val_precision: 0.9783 - val_recall: 0.9783\n",
      "Epoch 9/10\n",
      "9/9 [==============================] - 0s 54ms/step - loss: 0.0466 - acc: 0.9860 - f1_score: 0.9895 - precision: 0.9931 - recall: 0.9861 - val_loss: 0.1705 - val_acc: 0.9818 - val_f1_score: 0.9844 - val_precision: 0.9844 - val_recall: 0.9844\n",
      "Epoch 10/10\n",
      "9/9 [==============================] - 0s 55ms/step - loss: 0.0747 - acc: 0.9790 - f1_score: 0.9788 - precision: 0.9822 - recall: 0.9755 - val_loss: 0.1391 - val_acc: 0.9818 - val_f1_score: 0.9783 - val_precision: 0.9783 - val_recall: 0.9783\n"
     ]
    }
   ],
   "source": [
    "history = model.fit(train,\n",
    "                    validation_data = test,\n",
    "                    epochs = initial_epochs)"
   ]
  },
  {
   "cell_type": "code",
   "execution_count": 11,
   "metadata": {
    "pycharm": {
     "name": "#%%\n"
    }
   },
   "outputs": [],
   "source": [
    "# model.summary()\n",
    "\n",
    "# print(\"Кількість шарів у базовій моделі: \", len(tunedModel.layers))"
   ]
  },
  {
   "cell_type": "code",
   "execution_count": 12,
   "metadata": {
    "pycharm": {
     "name": "#%%\n"
    }
   },
   "outputs": [],
   "source": [
    "tunedModel = model.layers[3]\n",
    "tunedModel.trainable = True\n",
    "\n",
    "fine_tune_start = 250"
   ]
  },
  {
   "cell_type": "code",
   "execution_count": 13,
   "metadata": {
    "pycharm": {
     "name": "#%%\n"
    }
   },
   "outputs": [],
   "source": [
    "# Заморозимо всі шари перед fine_tune_start\n",
    "for layer in tunedModel.layers[:fine_tune_start]:\n",
    "    layer.trainable = False\n",
    "\n",
    "optimizer = Adam(learning_rate = 0.0001 * base_learning_rate)\n",
    "\n",
    "fine_tune_epochs = 100\n",
    "total_epochs =  initial_epochs + fine_tune_epochs"
   ]
  },
  {
   "cell_type": "code",
   "execution_count": 14,
   "metadata": {
    "pycharm": {
     "name": "#%%\n"
    }
   },
   "outputs": [],
   "source": [
    "model.compile(optimizer = optimizer,\n",
    "              loss = loss_function,\n",
    "              metrics = metrics)"
   ]
  },
  {
   "cell_type": "code",
   "execution_count": 15,
   "metadata": {
    "pycharm": {
     "name": "#%%\n"
    }
   },
   "outputs": [
    {
     "name": "stdout",
     "output_type": "stream",
     "text": [
      "Epoch 10/110\n"
     ]
    },
    {
     "name": "stderr",
     "output_type": "stream",
     "text": [
      "2022-12-06 13:23:47.004837: I tensorflow/core/grappler/optimizers/custom_graph_optimizer_registry.cc:114] Plugin optimizer for device_type GPU is enabled.\n"
     ]
    },
    {
     "name": "stdout",
     "output_type": "stream",
     "text": [
      "9/9 [==============================] - ETA: 0s - loss: 0.0569 - acc: 0.9825 - f1_score: 0.9791 - precision: 0.9826 - recall: 0.9757"
     ]
    },
    {
     "name": "stderr",
     "output_type": "stream",
     "text": [
      "2022-12-06 13:23:51.331350: I tensorflow/core/grappler/optimizers/custom_graph_optimizer_registry.cc:114] Plugin optimizer for device_type GPU is enabled.\n"
     ]
    },
    {
     "name": "stdout",
     "output_type": "stream",
     "text": [
      "9/9 [==============================] - 7s 301ms/step - loss: 0.0569 - acc: 0.9825 - f1_score: 0.9791 - precision: 0.9826 - recall: 0.9757 - val_loss: 0.1347 - val_acc: 0.9818 - val_f1_score: 0.9844 - val_precision: 0.9844 - val_recall: 0.9844\n",
      "Epoch 11/110\n",
      "9/9 [==============================] - 1s 95ms/step - loss: 0.0524 - acc: 0.9895 - f1_score: 0.9913 - precision: 0.9931 - recall: 0.9896 - val_loss: 0.1348 - val_acc: 0.9818 - val_f1_score: 0.9783 - val_precision: 0.9783 - val_recall: 0.9783\n",
      "Epoch 12/110\n",
      "9/9 [==============================] - 1s 92ms/step - loss: 0.0457 - acc: 0.9930 - f1_score: 0.9948 - precision: 0.9965 - recall: 0.9931 - val_loss: 0.1361 - val_acc: 0.9818 - val_f1_score: 0.9844 - val_precision: 0.9844 - val_recall: 0.9844\n",
      "Epoch 13/110\n",
      "9/9 [==============================] - 1s 84ms/step - loss: 0.0418 - acc: 0.9930 - f1_score: 0.9913 - precision: 0.9931 - recall: 0.9896 - val_loss: 0.1360 - val_acc: 0.9818 - val_f1_score: 0.9783 - val_precision: 0.9783 - val_recall: 0.9783\n",
      "Epoch 14/110\n",
      "9/9 [==============================] - 1s 85ms/step - loss: 0.0409 - acc: 0.9965 - f1_score: 0.9930 - precision: 0.9965 - recall: 0.9896 - val_loss: 0.1371 - val_acc: 0.9818 - val_f1_score: 0.9844 - val_precision: 0.9844 - val_recall: 0.9844\n",
      "Epoch 15/110\n",
      "9/9 [==============================] - 1s 86ms/step - loss: 0.0320 - acc: 0.9965 - f1_score: 0.9965 - precision: 0.9965 - recall: 0.9965 - val_loss: 0.1400 - val_acc: 0.9818 - val_f1_score: 0.9783 - val_precision: 0.9783 - val_recall: 0.9783\n",
      "Epoch 16/110\n",
      "9/9 [==============================] - 1s 85ms/step - loss: 0.0323 - acc: 0.9965 - f1_score: 0.9948 - precision: 0.9965 - recall: 0.9931 - val_loss: 0.1387 - val_acc: 0.9818 - val_f1_score: 0.9783 - val_precision: 0.9783 - val_recall: 0.9783\n",
      "Epoch 17/110\n",
      "9/9 [==============================] - 1s 105ms/step - loss: 0.0362 - acc: 0.9965 - f1_score: 0.9929 - precision: 0.9965 - recall: 0.9894 - val_loss: 0.1378 - val_acc: 0.9818 - val_f1_score: 0.9844 - val_precision: 0.9844 - val_recall: 0.9844\n",
      "Epoch 18/110\n",
      "9/9 [==============================] - 1s 91ms/step - loss: 0.0366 - acc: 0.9930 - f1_score: 0.9913 - precision: 0.9931 - recall: 0.9896 - val_loss: 0.1402 - val_acc: 0.9818 - val_f1_score: 0.9783 - val_precision: 0.9783 - val_recall: 0.9783\n",
      "Epoch 19/110\n",
      "9/9 [==============================] - 1s 86ms/step - loss: 0.0352 - acc: 0.9895 - f1_score: 0.9878 - precision: 0.9895 - recall: 0.9861 - val_loss: 0.1435 - val_acc: 0.9818 - val_f1_score: 0.9783 - val_precision: 0.9783 - val_recall: 0.9783\n",
      "Epoch 20/110\n",
      "9/9 [==============================] - 1s 98ms/step - loss: 0.0396 - acc: 0.9930 - f1_score: 0.9931 - precision: 0.9931 - recall: 0.9931 - val_loss: 0.1437 - val_acc: 0.9818 - val_f1_score: 0.9783 - val_precision: 0.9783 - val_recall: 0.9783\n",
      "Epoch 21/110\n",
      "9/9 [==============================] - 1s 95ms/step - loss: 0.0303 - acc: 0.9965 - f1_score: 0.9965 - precision: 0.9965 - recall: 0.9965 - val_loss: 0.1426 - val_acc: 0.9818 - val_f1_score: 0.9844 - val_precision: 0.9844 - val_recall: 0.9844\n",
      "Epoch 22/110\n",
      "9/9 [==============================] - 1s 113ms/step - loss: 0.0395 - acc: 0.9930 - f1_score: 0.9913 - precision: 0.9931 - recall: 0.9896 - val_loss: 0.1442 - val_acc: 0.9818 - val_f1_score: 0.9844 - val_precision: 0.9844 - val_recall: 0.9844\n",
      "Epoch 23/110\n",
      "9/9 [==============================] - 1s 108ms/step - loss: 0.0427 - acc: 0.9965 - f1_score: 0.9948 - precision: 0.9965 - recall: 0.9931 - val_loss: 0.1442 - val_acc: 0.9818 - val_f1_score: 0.9844 - val_precision: 0.9844 - val_recall: 0.9844\n",
      "Epoch 24/110\n",
      "9/9 [==============================] - 1s 98ms/step - loss: 0.0288 - acc: 0.9895 - f1_score: 0.9876 - precision: 0.9894 - recall: 0.9859 - val_loss: 0.1441 - val_acc: 0.9818 - val_f1_score: 0.9783 - val_precision: 0.9783 - val_recall: 0.9783\n",
      "Epoch 25/110\n",
      "9/9 [==============================] - 1s 101ms/step - loss: 0.0303 - acc: 0.9930 - f1_score: 0.9931 - precision: 0.9931 - recall: 0.9931 - val_loss: 0.1444 - val_acc: 0.9818 - val_f1_score: 0.9844 - val_precision: 0.9844 - val_recall: 0.9844\n",
      "Epoch 26/110\n",
      "9/9 [==============================] - 1s 93ms/step - loss: 0.0316 - acc: 0.9930 - f1_score: 0.9931 - precision: 0.9931 - recall: 0.9931 - val_loss: 0.1467 - val_acc: 0.9818 - val_f1_score: 0.9783 - val_precision: 0.9783 - val_recall: 0.9783\n",
      "Epoch 27/110\n",
      "9/9 [==============================] - 1s 89ms/step - loss: 0.0325 - acc: 0.9965 - f1_score: 0.9965 - precision: 0.9965 - recall: 0.9965 - val_loss: 0.1484 - val_acc: 0.9818 - val_f1_score: 0.9844 - val_precision: 0.9844 - val_recall: 0.9844\n",
      "Epoch 28/110\n",
      "9/9 [==============================] - 1s 103ms/step - loss: 0.0388 - acc: 0.9930 - f1_score: 0.9913 - precision: 0.9931 - recall: 0.9896 - val_loss: 0.1457 - val_acc: 0.9818 - val_f1_score: 0.9783 - val_precision: 0.9783 - val_recall: 0.9783\n",
      "Epoch 29/110\n",
      "9/9 [==============================] - 1s 86ms/step - loss: 0.0248 - acc: 0.9965 - f1_score: 0.9965 - precision: 0.9965 - recall: 0.9965 - val_loss: 0.1454 - val_acc: 0.9818 - val_f1_score: 0.9783 - val_precision: 0.9783 - val_recall: 0.9783\n",
      "Epoch 30/110\n",
      "9/9 [==============================] - 1s 85ms/step - loss: 0.0247 - acc: 0.9965 - f1_score: 0.9965 - precision: 0.9965 - recall: 0.9965 - val_loss: 0.1447 - val_acc: 0.9818 - val_f1_score: 0.9783 - val_precision: 0.9783 - val_recall: 0.9783\n",
      "Epoch 31/110\n",
      "9/9 [==============================] - 1s 88ms/step - loss: 0.0290 - acc: 0.9930 - f1_score: 0.9931 - precision: 0.9931 - recall: 0.9931 - val_loss: 0.1445 - val_acc: 0.9818 - val_f1_score: 0.9783 - val_precision: 0.9783 - val_recall: 0.9783\n",
      "Epoch 32/110\n",
      "9/9 [==============================] - 1s 85ms/step - loss: 0.0330 - acc: 0.9965 - f1_score: 0.9965 - precision: 0.9965 - recall: 0.9965 - val_loss: 0.1474 - val_acc: 0.9818 - val_f1_score: 0.9844 - val_precision: 0.9844 - val_recall: 0.9844\n",
      "Epoch 33/110\n",
      "9/9 [==============================] - 1s 86ms/step - loss: 0.0226 - acc: 0.9965 - f1_score: 0.9965 - precision: 0.9965 - recall: 0.9965 - val_loss: 0.1462 - val_acc: 0.9818 - val_f1_score: 0.9783 - val_precision: 0.9783 - val_recall: 0.9783\n",
      "Epoch 34/110\n",
      "9/9 [==============================] - 1s 85ms/step - loss: 0.0310 - acc: 0.9930 - f1_score: 0.9928 - precision: 0.9928 - recall: 0.9928 - val_loss: 0.1466 - val_acc: 0.9818 - val_f1_score: 0.9844 - val_precision: 0.9844 - val_recall: 0.9844\n",
      "Epoch 35/110\n",
      "9/9 [==============================] - 1s 88ms/step - loss: 0.0332 - acc: 0.9965 - f1_score: 0.9965 - precision: 0.9965 - recall: 0.9965 - val_loss: 0.1501 - val_acc: 0.9818 - val_f1_score: 0.9844 - val_precision: 0.9844 - val_recall: 0.9844\n",
      "Epoch 36/110\n",
      "9/9 [==============================] - 1s 85ms/step - loss: 0.0212 - acc: 0.9965 - f1_score: 0.9965 - precision: 0.9965 - recall: 0.9965 - val_loss: 0.1482 - val_acc: 0.9818 - val_f1_score: 0.9844 - val_precision: 0.9844 - val_recall: 0.9844\n",
      "Epoch 37/110\n",
      "9/9 [==============================] - 1s 84ms/step - loss: 0.0342 - acc: 0.9965 - f1_score: 0.9965 - precision: 0.9965 - recall: 0.9965 - val_loss: 0.1498 - val_acc: 0.9818 - val_f1_score: 0.9783 - val_precision: 0.9783 - val_recall: 0.9783\n",
      "Epoch 38/110\n",
      "9/9 [==============================] - 1s 84ms/step - loss: 0.0312 - acc: 0.9965 - f1_score: 0.9965 - precision: 0.9965 - recall: 0.9965 - val_loss: 0.1516 - val_acc: 0.9818 - val_f1_score: 0.9844 - val_precision: 0.9844 - val_recall: 0.9844\n",
      "Epoch 39/110\n",
      "9/9 [==============================] - 1s 86ms/step - loss: 0.0271 - acc: 0.9965 - f1_score: 0.9965 - precision: 0.9965 - recall: 0.9965 - val_loss: 0.1502 - val_acc: 0.9818 - val_f1_score: 0.9783 - val_precision: 0.9783 - val_recall: 0.9783\n",
      "Epoch 40/110\n",
      "9/9 [==============================] - 1s 83ms/step - loss: 0.0211 - acc: 0.9965 - f1_score: 0.9965 - precision: 0.9965 - recall: 0.9965 - val_loss: 0.1490 - val_acc: 0.9818 - val_f1_score: 0.9783 - val_precision: 0.9783 - val_recall: 0.9783\n",
      "Epoch 41/110\n",
      "9/9 [==============================] - 1s 84ms/step - loss: 0.0349 - acc: 0.9930 - f1_score: 0.9931 - precision: 0.9931 - recall: 0.9931 - val_loss: 0.1501 - val_acc: 0.9818 - val_f1_score: 0.9844 - val_precision: 0.9844 - val_recall: 0.9844\n",
      "Epoch 42/110\n"
     ]
    },
    {
     "name": "stdout",
     "output_type": "stream",
     "text": [
      "9/9 [==============================] - 1s 84ms/step - loss: 0.0253 - acc: 0.9965 - f1_score: 0.9965 - precision: 0.9965 - recall: 0.9965 - val_loss: 0.1504 - val_acc: 0.9818 - val_f1_score: 0.9783 - val_precision: 0.9783 - val_recall: 0.9783\n",
      "Epoch 43/110\n",
      "9/9 [==============================] - 1s 86ms/step - loss: 0.0208 - acc: 0.9965 - f1_score: 0.9965 - precision: 0.9965 - recall: 0.9965 - val_loss: 0.1502 - val_acc: 0.9818 - val_f1_score: 0.9844 - val_precision: 0.9844 - val_recall: 0.9844\n",
      "Epoch 44/110\n",
      "9/9 [==============================] - 1s 84ms/step - loss: 0.0267 - acc: 0.9930 - f1_score: 0.9931 - precision: 0.9931 - recall: 0.9931 - val_loss: 0.1505 - val_acc: 0.9818 - val_f1_score: 0.9844 - val_precision: 0.9844 - val_recall: 0.9844\n",
      "Epoch 45/110\n",
      "9/9 [==============================] - 1s 84ms/step - loss: 0.0303 - acc: 0.9930 - f1_score: 0.9931 - precision: 0.9931 - recall: 0.9931 - val_loss: 0.1508 - val_acc: 0.9818 - val_f1_score: 0.9844 - val_precision: 0.9844 - val_recall: 0.9844\n",
      "Epoch 46/110\n",
      "9/9 [==============================] - 1s 84ms/step - loss: 0.0256 - acc: 0.9965 - f1_score: 0.9965 - precision: 0.9965 - recall: 0.9965 - val_loss: 0.1531 - val_acc: 0.9818 - val_f1_score: 0.9783 - val_precision: 0.9783 - val_recall: 0.9783\n",
      "Epoch 47/110\n",
      "9/9 [==============================] - 1s 84ms/step - loss: 0.0333 - acc: 0.9930 - f1_score: 0.9913 - precision: 0.9931 - recall: 0.9896 - val_loss: 0.1544 - val_acc: 0.9818 - val_f1_score: 0.9844 - val_precision: 0.9844 - val_recall: 0.9844\n",
      "Epoch 48/110\n",
      "9/9 [==============================] - 1s 85ms/step - loss: 0.0307 - acc: 0.9965 - f1_score: 0.9965 - precision: 0.9965 - recall: 0.9965 - val_loss: 0.1562 - val_acc: 0.9818 - val_f1_score: 0.9844 - val_precision: 0.9844 - val_recall: 0.9844\n",
      "Epoch 49/110\n",
      "9/9 [==============================] - 1s 83ms/step - loss: 0.0308 - acc: 0.9965 - f1_score: 0.9965 - precision: 0.9965 - recall: 0.9965 - val_loss: 0.1553 - val_acc: 0.9818 - val_f1_score: 0.9844 - val_precision: 0.9844 - val_recall: 0.9844\n",
      "Epoch 50/110\n",
      "9/9 [==============================] - 1s 84ms/step - loss: 0.0238 - acc: 0.9965 - f1_score: 0.9965 - precision: 0.9965 - recall: 0.9965 - val_loss: 0.1566 - val_acc: 0.9818 - val_f1_score: 0.9844 - val_precision: 0.9844 - val_recall: 0.9844\n",
      "Epoch 51/110\n",
      "9/9 [==============================] - 1s 86ms/step - loss: 0.0236 - acc: 0.9965 - f1_score: 0.9965 - precision: 0.9965 - recall: 0.9965 - val_loss: 0.1564 - val_acc: 0.9818 - val_f1_score: 0.9844 - val_precision: 0.9844 - val_recall: 0.9844\n",
      "Epoch 52/110\n",
      "9/9 [==============================] - 1s 84ms/step - loss: 0.0224 - acc: 0.9965 - f1_score: 0.9965 - precision: 0.9965 - recall: 0.9965 - val_loss: 0.1580 - val_acc: 0.9818 - val_f1_score: 0.9783 - val_precision: 0.9783 - val_recall: 0.9783\n",
      "Epoch 53/110\n",
      "9/9 [==============================] - 1s 84ms/step - loss: 0.0207 - acc: 0.9965 - f1_score: 0.9963 - precision: 0.9963 - recall: 0.9963 - val_loss: 0.1540 - val_acc: 0.9818 - val_f1_score: 0.9783 - val_precision: 0.9783 - val_recall: 0.9783\n",
      "Epoch 54/110\n",
      "9/9 [==============================] - 1s 85ms/step - loss: 0.0283 - acc: 0.9965 - f1_score: 0.9965 - precision: 0.9965 - recall: 0.9965 - val_loss: 0.1524 - val_acc: 0.9818 - val_f1_score: 0.9783 - val_precision: 0.9783 - val_recall: 0.9783\n",
      "Epoch 55/110\n",
      "9/9 [==============================] - 1s 84ms/step - loss: 0.0237 - acc: 0.9965 - f1_score: 0.9965 - precision: 0.9965 - recall: 0.9965 - val_loss: 0.1525 - val_acc: 0.9818 - val_f1_score: 0.9844 - val_precision: 0.9844 - val_recall: 0.9844\n",
      "Epoch 56/110\n",
      "9/9 [==============================] - 1s 84ms/step - loss: 0.0291 - acc: 0.9965 - f1_score: 0.9965 - precision: 0.9965 - recall: 0.9965 - val_loss: 0.1559 - val_acc: 0.9818 - val_f1_score: 0.9783 - val_precision: 0.9783 - val_recall: 0.9783\n",
      "Epoch 57/110\n",
      "9/9 [==============================] - 1s 84ms/step - loss: 0.0166 - acc: 0.9965 - f1_score: 0.9965 - precision: 0.9965 - recall: 0.9965 - val_loss: 0.1564 - val_acc: 0.9818 - val_f1_score: 0.9783 - val_precision: 0.9783 - val_recall: 0.9783\n",
      "Epoch 58/110\n",
      "9/9 [==============================] - 1s 85ms/step - loss: 0.0266 - acc: 0.9930 - f1_score: 0.9928 - precision: 0.9928 - recall: 0.9928 - val_loss: 0.1597 - val_acc: 0.9818 - val_f1_score: 0.9844 - val_precision: 0.9844 - val_recall: 0.9844\n",
      "Epoch 59/110\n",
      "9/9 [==============================] - 1s 84ms/step - loss: 0.0222 - acc: 0.9965 - f1_score: 0.9965 - precision: 0.9965 - recall: 0.9965 - val_loss: 0.1575 - val_acc: 0.9818 - val_f1_score: 0.9844 - val_precision: 0.9844 - val_recall: 0.9844\n",
      "Epoch 60/110\n",
      "9/9 [==============================] - 1s 84ms/step - loss: 0.0257 - acc: 0.9930 - f1_score: 0.9931 - precision: 0.9931 - recall: 0.9931 - val_loss: 0.1561 - val_acc: 0.9818 - val_f1_score: 0.9844 - val_precision: 0.9844 - val_recall: 0.9844\n",
      "Epoch 61/110\n",
      "9/9 [==============================] - 1s 85ms/step - loss: 0.0143 - acc: 0.9965 - f1_score: 0.9965 - precision: 0.9965 - recall: 0.9965 - val_loss: 0.1581 - val_acc: 0.9818 - val_f1_score: 0.9783 - val_precision: 0.9783 - val_recall: 0.9783\n",
      "Epoch 62/110\n",
      "9/9 [==============================] - 1s 84ms/step - loss: 0.0258 - acc: 0.9965 - f1_score: 0.9965 - precision: 0.9965 - recall: 0.9965 - val_loss: 0.1585 - val_acc: 0.9818 - val_f1_score: 0.9844 - val_precision: 0.9844 - val_recall: 0.9844\n",
      "Epoch 63/110\n",
      "9/9 [==============================] - 1s 83ms/step - loss: 0.0264 - acc: 0.9965 - f1_score: 0.9965 - precision: 0.9965 - recall: 0.9965 - val_loss: 0.1600 - val_acc: 0.9818 - val_f1_score: 0.9844 - val_precision: 0.9844 - val_recall: 0.9844\n",
      "Epoch 64/110\n",
      "9/9 [==============================] - 1s 83ms/step - loss: 0.0217 - acc: 0.9965 - f1_score: 0.9965 - precision: 0.9965 - recall: 0.9965 - val_loss: 0.1584 - val_acc: 0.9818 - val_f1_score: 0.9844 - val_precision: 0.9844 - val_recall: 0.9844\n",
      "Epoch 65/110\n",
      "9/9 [==============================] - 1s 84ms/step - loss: 0.0217 - acc: 0.9965 - f1_score: 0.9965 - precision: 0.9965 - recall: 0.9965 - val_loss: 0.1586 - val_acc: 0.9818 - val_f1_score: 0.9844 - val_precision: 0.9844 - val_recall: 0.9844\n",
      "Epoch 66/110\n",
      "9/9 [==============================] - 1s 84ms/step - loss: 0.0203 - acc: 0.9965 - f1_score: 0.9965 - precision: 0.9965 - recall: 0.9965 - val_loss: 0.1582 - val_acc: 0.9818 - val_f1_score: 0.9844 - val_precision: 0.9844 - val_recall: 0.9844\n",
      "Epoch 67/110\n",
      "9/9 [==============================] - 1s 84ms/step - loss: 0.0235 - acc: 0.9965 - f1_score: 0.9965 - precision: 0.9965 - recall: 0.9965 - val_loss: 0.1564 - val_acc: 0.9818 - val_f1_score: 0.9844 - val_precision: 0.9844 - val_recall: 0.9844\n",
      "Epoch 68/110\n",
      "9/9 [==============================] - 1s 86ms/step - loss: 0.0209 - acc: 0.9965 - f1_score: 0.9965 - precision: 0.9965 - recall: 0.9965 - val_loss: 0.1573 - val_acc: 0.9818 - val_f1_score: 0.9844 - val_precision: 0.9844 - val_recall: 0.9844\n",
      "Epoch 69/110\n",
      "9/9 [==============================] - 1s 83ms/step - loss: 0.0254 - acc: 0.9930 - f1_score: 0.9931 - precision: 0.9931 - recall: 0.9931 - val_loss: 0.1590 - val_acc: 0.9818 - val_f1_score: 0.9844 - val_precision: 0.9844 - val_recall: 0.9844\n",
      "Epoch 70/110\n",
      "9/9 [==============================] - 1s 84ms/step - loss: 0.0252 - acc: 0.9965 - f1_score: 0.9965 - precision: 0.9965 - recall: 0.9965 - val_loss: 0.1595 - val_acc: 0.9818 - val_f1_score: 0.9844 - val_precision: 0.9844 - val_recall: 0.9844\n",
      "Epoch 71/110\n",
      "9/9 [==============================] - 1s 82ms/step - loss: 0.0228 - acc: 0.9965 - f1_score: 0.9965 - precision: 0.9965 - recall: 0.9965 - val_loss: 0.1589 - val_acc: 0.9818 - val_f1_score: 0.9783 - val_precision: 0.9783 - val_recall: 0.9783\n",
      "Epoch 72/110\n",
      "9/9 [==============================] - 1s 88ms/step - loss: 0.0214 - acc: 0.9930 - f1_score: 0.9931 - precision: 0.9931 - recall: 0.9931 - val_loss: 0.1574 - val_acc: 0.9818 - val_f1_score: 0.9844 - val_precision: 0.9844 - val_recall: 0.9844\n",
      "Epoch 73/110\n",
      "9/9 [==============================] - 1s 83ms/step - loss: 0.0223 - acc: 0.9965 - f1_score: 0.9948 - precision: 0.9965 - recall: 0.9931 - val_loss: 0.1594 - val_acc: 0.9818 - val_f1_score: 0.9844 - val_precision: 0.9844 - val_recall: 0.9844\n",
      "Epoch 74/110\n"
     ]
    },
    {
     "name": "stdout",
     "output_type": "stream",
     "text": [
      "9/9 [==============================] - 1s 83ms/step - loss: 0.0168 - acc: 0.9965 - f1_score: 0.9965 - precision: 0.9965 - recall: 0.9965 - val_loss: 0.1611 - val_acc: 0.9818 - val_f1_score: 0.9844 - val_precision: 0.9844 - val_recall: 0.9844\n",
      "Epoch 75/110\n",
      "9/9 [==============================] - 1s 83ms/step - loss: 0.0232 - acc: 0.9965 - f1_score: 0.9965 - precision: 0.9965 - recall: 0.9965 - val_loss: 0.1588 - val_acc: 0.9818 - val_f1_score: 0.9844 - val_precision: 0.9844 - val_recall: 0.9844\n",
      "Epoch 76/110\n",
      "9/9 [==============================] - 1s 89ms/step - loss: 0.0178 - acc: 0.9965 - f1_score: 0.9965 - precision: 0.9965 - recall: 0.9965 - val_loss: 0.1600 - val_acc: 0.9818 - val_f1_score: 0.9783 - val_precision: 0.9783 - val_recall: 0.9783\n",
      "Epoch 77/110\n",
      "9/9 [==============================] - 1s 84ms/step - loss: 0.0196 - acc: 0.9965 - f1_score: 0.9965 - precision: 0.9965 - recall: 0.9965 - val_loss: 0.1598 - val_acc: 0.9818 - val_f1_score: 0.9844 - val_precision: 0.9844 - val_recall: 0.9844\n",
      "Epoch 78/110\n",
      "9/9 [==============================] - 1s 84ms/step - loss: 0.0156 - acc: 0.9965 - f1_score: 0.9963 - precision: 0.9963 - recall: 0.9963 - val_loss: 0.1580 - val_acc: 0.9818 - val_f1_score: 0.9844 - val_precision: 0.9844 - val_recall: 0.9844\n",
      "Epoch 79/110\n",
      "9/9 [==============================] - 1s 86ms/step - loss: 0.0114 - acc: 0.9965 - f1_score: 0.9965 - precision: 0.9965 - recall: 0.9965 - val_loss: 0.1591 - val_acc: 0.9818 - val_f1_score: 0.9783 - val_precision: 0.9783 - val_recall: 0.9783\n",
      "Epoch 80/110\n",
      "9/9 [==============================] - 1s 84ms/step - loss: 0.0243 - acc: 0.9965 - f1_score: 0.9965 - precision: 0.9965 - recall: 0.9965 - val_loss: 0.1605 - val_acc: 0.9818 - val_f1_score: 0.9783 - val_precision: 0.9783 - val_recall: 0.9783\n",
      "Epoch 81/110\n",
      "9/9 [==============================] - 1s 84ms/step - loss: 0.0222 - acc: 0.9965 - f1_score: 0.9965 - precision: 0.9965 - recall: 0.9965 - val_loss: 0.1607 - val_acc: 0.9818 - val_f1_score: 0.9844 - val_precision: 0.9844 - val_recall: 0.9844\n",
      "Epoch 82/110\n",
      "9/9 [==============================] - 1s 85ms/step - loss: 0.0210 - acc: 0.9965 - f1_score: 0.9965 - precision: 0.9965 - recall: 0.9965 - val_loss: 0.1625 - val_acc: 0.9818 - val_f1_score: 0.9783 - val_precision: 0.9783 - val_recall: 0.9783\n",
      "Epoch 83/110\n",
      "9/9 [==============================] - 1s 84ms/step - loss: 0.0258 - acc: 0.9965 - f1_score: 0.9965 - precision: 0.9965 - recall: 0.9965 - val_loss: 0.1614 - val_acc: 0.9818 - val_f1_score: 0.9783 - val_precision: 0.9783 - val_recall: 0.9783\n",
      "Epoch 84/110\n",
      "9/9 [==============================] - 1s 85ms/step - loss: 0.0269 - acc: 0.9965 - f1_score: 0.9965 - precision: 0.9965 - recall: 0.9965 - val_loss: 0.1612 - val_acc: 0.9818 - val_f1_score: 0.9844 - val_precision: 0.9844 - val_recall: 0.9844\n",
      "Epoch 85/110\n",
      "9/9 [==============================] - 1s 84ms/step - loss: 0.0205 - acc: 0.9965 - f1_score: 0.9965 - precision: 0.9965 - recall: 0.9965 - val_loss: 0.1622 - val_acc: 0.9818 - val_f1_score: 0.9844 - val_precision: 0.9844 - val_recall: 0.9844\n",
      "Epoch 86/110\n",
      "9/9 [==============================] - 1s 84ms/step - loss: 0.0155 - acc: 0.9965 - f1_score: 0.9965 - precision: 0.9965 - recall: 0.9965 - val_loss: 0.1639 - val_acc: 0.9818 - val_f1_score: 0.9844 - val_precision: 0.9844 - val_recall: 0.9844\n",
      "Epoch 87/110\n",
      "9/9 [==============================] - 1s 84ms/step - loss: 0.0232 - acc: 0.9965 - f1_score: 0.9965 - precision: 0.9965 - recall: 0.9965 - val_loss: 0.1635 - val_acc: 0.9818 - val_f1_score: 0.9844 - val_precision: 0.9844 - val_recall: 0.9844\n",
      "Epoch 88/110\n",
      "9/9 [==============================] - 1s 84ms/step - loss: 0.0147 - acc: 0.9965 - f1_score: 0.9965 - precision: 0.9965 - recall: 0.9965 - val_loss: 0.1622 - val_acc: 0.9818 - val_f1_score: 0.9844 - val_precision: 0.9844 - val_recall: 0.9844\n",
      "Epoch 89/110\n",
      "9/9 [==============================] - 1s 84ms/step - loss: 0.0227 - acc: 0.9965 - f1_score: 0.9965 - precision: 0.9965 - recall: 0.9965 - val_loss: 0.1626 - val_acc: 0.9818 - val_f1_score: 0.9844 - val_precision: 0.9844 - val_recall: 0.9844\n",
      "Epoch 90/110\n",
      "9/9 [==============================] - 1s 84ms/step - loss: 0.0196 - acc: 0.9965 - f1_score: 0.9965 - precision: 0.9965 - recall: 0.9965 - val_loss: 0.1612 - val_acc: 0.9818 - val_f1_score: 0.9844 - val_precision: 0.9844 - val_recall: 0.9844\n",
      "Epoch 91/110\n",
      "9/9 [==============================] - 1s 84ms/step - loss: 0.0196 - acc: 0.9965 - f1_score: 0.9965 - precision: 0.9965 - recall: 0.9965 - val_loss: 0.1604 - val_acc: 0.9818 - val_f1_score: 0.9844 - val_precision: 0.9844 - val_recall: 0.9844\n",
      "Epoch 92/110\n",
      "9/9 [==============================] - 1s 85ms/step - loss: 0.0167 - acc: 0.9965 - f1_score: 0.9965 - precision: 0.9965 - recall: 0.9965 - val_loss: 0.1607 - val_acc: 0.9818 - val_f1_score: 0.9783 - val_precision: 0.9783 - val_recall: 0.9783\n",
      "Epoch 93/110\n",
      "9/9 [==============================] - 1s 83ms/step - loss: 0.0206 - acc: 0.9965 - f1_score: 0.9965 - precision: 0.9965 - recall: 0.9965 - val_loss: 0.1611 - val_acc: 0.9818 - val_f1_score: 0.9844 - val_precision: 0.9844 - val_recall: 0.9844\n",
      "Epoch 94/110\n",
      "9/9 [==============================] - 1s 83ms/step - loss: 0.0199 - acc: 0.9965 - f1_score: 0.9965 - precision: 0.9965 - recall: 0.9965 - val_loss: 0.1620 - val_acc: 0.9818 - val_f1_score: 0.9783 - val_precision: 0.9783 - val_recall: 0.9783\n",
      "Epoch 95/110\n",
      "9/9 [==============================] - 1s 86ms/step - loss: 0.0214 - acc: 0.9965 - f1_score: 0.9965 - precision: 0.9965 - recall: 0.9965 - val_loss: 0.1643 - val_acc: 0.9818 - val_f1_score: 0.9844 - val_precision: 0.9844 - val_recall: 0.9844\n",
      "Epoch 96/110\n",
      "9/9 [==============================] - 1s 84ms/step - loss: 0.0190 - acc: 0.9965 - f1_score: 0.9965 - precision: 0.9965 - recall: 0.9965 - val_loss: 0.1630 - val_acc: 0.9818 - val_f1_score: 0.9783 - val_precision: 0.9783 - val_recall: 0.9783\n",
      "Epoch 97/110\n",
      "9/9 [==============================] - 1s 83ms/step - loss: 0.0257 - acc: 0.9965 - f1_score: 0.9965 - precision: 0.9965 - recall: 0.9965 - val_loss: 0.1619 - val_acc: 0.9818 - val_f1_score: 0.9844 - val_precision: 0.9844 - val_recall: 0.9844\n",
      "Epoch 98/110\n",
      "9/9 [==============================] - 1s 84ms/step - loss: 0.0263 - acc: 0.9965 - f1_score: 0.9965 - precision: 0.9965 - recall: 0.9965 - val_loss: 0.1608 - val_acc: 0.9818 - val_f1_score: 0.9844 - val_precision: 0.9844 - val_recall: 0.9844\n",
      "Epoch 99/110\n",
      "9/9 [==============================] - 1s 83ms/step - loss: 0.0180 - acc: 0.9965 - f1_score: 0.9965 - precision: 0.9965 - recall: 0.9965 - val_loss: 0.1639 - val_acc: 0.9818 - val_f1_score: 0.9844 - val_precision: 0.9844 - val_recall: 0.9844\n",
      "Epoch 100/110\n",
      "9/9 [==============================] - 1s 85ms/step - loss: 0.0184 - acc: 0.9965 - f1_score: 0.9965 - precision: 0.9965 - recall: 0.9965 - val_loss: 0.1652 - val_acc: 0.9818 - val_f1_score: 0.9783 - val_precision: 0.9783 - val_recall: 0.9783\n",
      "Epoch 101/110\n",
      "9/9 [==============================] - 1s 86ms/step - loss: 0.0201 - acc: 0.9965 - f1_score: 0.9963 - precision: 0.9963 - recall: 0.9963 - val_loss: 0.1632 - val_acc: 0.9818 - val_f1_score: 0.9783 - val_precision: 0.9783 - val_recall: 0.9783\n",
      "Epoch 102/110\n",
      "9/9 [==============================] - 1s 84ms/step - loss: 0.0253 - acc: 0.9965 - f1_score: 0.9965 - precision: 0.9965 - recall: 0.9965 - val_loss: 0.1642 - val_acc: 0.9818 - val_f1_score: 0.9844 - val_precision: 0.9844 - val_recall: 0.9844\n",
      "Epoch 103/110\n",
      "9/9 [==============================] - 1s 85ms/step - loss: 0.0238 - acc: 0.9965 - f1_score: 0.9965 - precision: 0.9965 - recall: 0.9965 - val_loss: 0.1637 - val_acc: 0.9818 - val_f1_score: 0.9844 - val_precision: 0.9844 - val_recall: 0.9844\n",
      "Epoch 104/110\n",
      "9/9 [==============================] - 1s 87ms/step - loss: 0.0233 - acc: 0.9965 - f1_score: 0.9965 - precision: 0.9965 - recall: 0.9965 - val_loss: 0.1637 - val_acc: 0.9818 - val_f1_score: 0.9783 - val_precision: 0.9783 - val_recall: 0.9783\n",
      "Epoch 105/110\n",
      "9/9 [==============================] - 1s 86ms/step - loss: 0.0197 - acc: 0.9965 - f1_score: 0.9963 - precision: 0.9963 - recall: 0.9963 - val_loss: 0.1624 - val_acc: 0.9818 - val_f1_score: 0.9844 - val_precision: 0.9844 - val_recall: 0.9844\n",
      "Epoch 106/110\n"
     ]
    },
    {
     "name": "stdout",
     "output_type": "stream",
     "text": [
      "9/9 [==============================] - 1s 84ms/step - loss: 0.0176 - acc: 0.9965 - f1_score: 0.9965 - precision: 0.9965 - recall: 0.9965 - val_loss: 0.1624 - val_acc: 0.9818 - val_f1_score: 0.9783 - val_precision: 0.9783 - val_recall: 0.9783\n",
      "Epoch 107/110\n",
      "9/9 [==============================] - 1s 85ms/step - loss: 0.0142 - acc: 0.9965 - f1_score: 0.9965 - precision: 0.9965 - recall: 0.9965 - val_loss: 0.1621 - val_acc: 0.9818 - val_f1_score: 0.9844 - val_precision: 0.9844 - val_recall: 0.9844\n",
      "Epoch 108/110\n",
      "9/9 [==============================] - 1s 84ms/step - loss: 0.0152 - acc: 0.9965 - f1_score: 0.9965 - precision: 0.9965 - recall: 0.9965 - val_loss: 0.1631 - val_acc: 0.9818 - val_f1_score: 0.9783 - val_precision: 0.9783 - val_recall: 0.9783\n",
      "Epoch 109/110\n",
      "9/9 [==============================] - 1s 94ms/step - loss: 0.0163 - acc: 0.9965 - f1_score: 0.9965 - precision: 0.9965 - recall: 0.9965 - val_loss: 0.1612 - val_acc: 0.9818 - val_f1_score: 0.9783 - val_precision: 0.9783 - val_recall: 0.9783\n",
      "Epoch 110/110\n",
      "9/9 [==============================] - 1s 86ms/step - loss: 0.0181 - acc: 0.9965 - f1_score: 0.9965 - precision: 0.9965 - recall: 0.9965 - val_loss: 0.1609 - val_acc: 0.9818 - val_f1_score: 0.9844 - val_precision: 0.9844 - val_recall: 0.9844\n"
     ]
    }
   ],
   "source": [
    "history_fine = model.fit(train,\n",
    "                         validation_data = test,\n",
    "                         epochs = total_epochs,\n",
    "                         initial_epoch = history.epoch[-1])"
   ]
  },
  {
   "cell_type": "code",
   "execution_count": null,
   "metadata": {
    "pycharm": {
     "name": "#%%\n"
    }
   },
   "outputs": [],
   "source": [
    "model.save('Fine_tuned_model01.h5', overwrite = True, include_optimizer = True)"
   ]
  },
  {
   "cell_type": "code",
   "execution_count": 22,
   "metadata": {
    "pycharm": {
     "name": "#%%\n"
    }
   },
   "outputs": [
    {
     "name": "stdout",
     "output_type": "stream",
     "text": [
      "WARNING:tensorflow:Model was constructed with shape (None, 75, 75, 3) for input KerasTensor(type_spec=TensorSpec(shape=(None, 75, 75, 3), dtype=tf.float32, name='input_2'), name='input_2', description=\"created by layer 'input_2'\"), but it was called on an input with incompatible shape (None, 75).\n",
      "WARNING:tensorflow:Model was constructed with shape (None, 75, 75, 3) for input KerasTensor(type_spec=TensorSpec(shape=(None, 75, 75, 3), dtype=tf.float32, name='input_1'), name='input_1', description=\"created by layer 'input_1'\"), but it was called on an input with incompatible shape (None, 75).\n"
     ]
    },
    {
     "ename": "ValueError",
     "evalue": "in user code:\n\n    File \"/Users/tylerdurden/opt/miniconda3/envs/tensorflow/lib/python3.9/site-packages/keras/engine/training.py\", line 2041, in predict_function  *\n        return step_function(self, iterator)\n    File \"/Users/tylerdurden/opt/miniconda3/envs/tensorflow/lib/python3.9/site-packages/keras/engine/training.py\", line 2027, in step_function  **\n        outputs = model.distribute_strategy.run(run_step, args=(data,))\n    File \"/Users/tylerdurden/opt/miniconda3/envs/tensorflow/lib/python3.9/site-packages/keras/engine/training.py\", line 2015, in run_step  **\n        outputs = model.predict_step(data)\n    File \"/Users/tylerdurden/opt/miniconda3/envs/tensorflow/lib/python3.9/site-packages/keras/engine/training.py\", line 1983, in predict_step\n        return self(x, training=False)\n    File \"/Users/tylerdurden/opt/miniconda3/envs/tensorflow/lib/python3.9/site-packages/keras/utils/traceback_utils.py\", line 70, in error_handler\n        raise e.with_traceback(filtered_tb) from None\n    File \"/Users/tylerdurden/opt/miniconda3/envs/tensorflow/lib/python3.9/site-packages/keras/engine/input_spec.py\", line 250, in assert_input_compatibility\n        raise ValueError(\n\n    ValueError: Exception encountered when calling layer \"inception_v3\" \"                 f\"(type Functional).\n    \n    Input 0 of layer \"conv2d\" is incompatible with the layer: expected min_ndim=4, found ndim=2. Full shape received: (None, 75)\n    \n    Call arguments received by layer \"inception_v3\" \"                 f\"(type Functional):\n      • inputs=tf.Tensor(shape=(None, 75), dtype=float32)\n      • training=False\n      • mask=None\n",
     "output_type": "error",
     "traceback": [
      "\u001B[0;31m---------------------------------------------------------------------------\u001B[0m",
      "\u001B[0;31mValueError\u001B[0m                                Traceback (most recent call last)",
      "Cell \u001B[0;32mIn[22], line 4\u001B[0m\n\u001B[1;32m      2\u001B[0m image1 \u001B[38;5;241m=\u001B[39m Image\u001B[38;5;241m.\u001B[39mopen(\u001B[38;5;124m\"\u001B[39m\u001B[38;5;124mimg.png\u001B[39m\u001B[38;5;124m\"\u001B[39m)\n\u001B[1;32m      3\u001B[0m data \u001B[38;5;241m=\u001B[39m np\u001B[38;5;241m.\u001B[39masarray(image1)\n\u001B[0;32m----> 4\u001B[0m \u001B[43mmodel\u001B[49m\u001B[38;5;241;43m.\u001B[39;49m\u001B[43mpredict\u001B[49m\u001B[43m(\u001B[49m\u001B[43mdata\u001B[49m\u001B[43m)\u001B[49m\n",
      "File \u001B[0;32m~/opt/miniconda3/envs/tensorflow/lib/python3.9/site-packages/keras/utils/traceback_utils.py:70\u001B[0m, in \u001B[0;36mfilter_traceback.<locals>.error_handler\u001B[0;34m(*args, **kwargs)\u001B[0m\n\u001B[1;32m     67\u001B[0m     filtered_tb \u001B[38;5;241m=\u001B[39m _process_traceback_frames(e\u001B[38;5;241m.\u001B[39m__traceback__)\n\u001B[1;32m     68\u001B[0m     \u001B[38;5;66;03m# To get the full stack trace, call:\u001B[39;00m\n\u001B[1;32m     69\u001B[0m     \u001B[38;5;66;03m# `tf.debugging.disable_traceback_filtering()`\u001B[39;00m\n\u001B[0;32m---> 70\u001B[0m     \u001B[38;5;28;01mraise\u001B[39;00m e\u001B[38;5;241m.\u001B[39mwith_traceback(filtered_tb) \u001B[38;5;28;01mfrom\u001B[39;00m \u001B[38;5;28mNone\u001B[39m\n\u001B[1;32m     71\u001B[0m \u001B[38;5;28;01mfinally\u001B[39;00m:\n\u001B[1;32m     72\u001B[0m     \u001B[38;5;28;01mdel\u001B[39;00m filtered_tb\n",
      "File \u001B[0;32m/var/folders/8r/80qp0xcx3p986rp4th0s50140000gn/T/__autograph_generated_filegw2fgcy3.py:15\u001B[0m, in \u001B[0;36mouter_factory.<locals>.inner_factory.<locals>.tf__predict_function\u001B[0;34m(iterator)\u001B[0m\n\u001B[1;32m     13\u001B[0m \u001B[38;5;28;01mtry\u001B[39;00m:\n\u001B[1;32m     14\u001B[0m     do_return \u001B[38;5;241m=\u001B[39m \u001B[38;5;28;01mTrue\u001B[39;00m\n\u001B[0;32m---> 15\u001B[0m     retval_ \u001B[38;5;241m=\u001B[39m ag__\u001B[38;5;241m.\u001B[39mconverted_call(ag__\u001B[38;5;241m.\u001B[39mld(step_function), (ag__\u001B[38;5;241m.\u001B[39mld(\u001B[38;5;28mself\u001B[39m), ag__\u001B[38;5;241m.\u001B[39mld(iterator)), \u001B[38;5;28;01mNone\u001B[39;00m, fscope)\n\u001B[1;32m     16\u001B[0m \u001B[38;5;28;01mexcept\u001B[39;00m:\n\u001B[1;32m     17\u001B[0m     do_return \u001B[38;5;241m=\u001B[39m \u001B[38;5;28;01mFalse\u001B[39;00m\n",
      "\u001B[0;31mValueError\u001B[0m: in user code:\n\n    File \"/Users/tylerdurden/opt/miniconda3/envs/tensorflow/lib/python3.9/site-packages/keras/engine/training.py\", line 2041, in predict_function  *\n        return step_function(self, iterator)\n    File \"/Users/tylerdurden/opt/miniconda3/envs/tensorflow/lib/python3.9/site-packages/keras/engine/training.py\", line 2027, in step_function  **\n        outputs = model.distribute_strategy.run(run_step, args=(data,))\n    File \"/Users/tylerdurden/opt/miniconda3/envs/tensorflow/lib/python3.9/site-packages/keras/engine/training.py\", line 2015, in run_step  **\n        outputs = model.predict_step(data)\n    File \"/Users/tylerdurden/opt/miniconda3/envs/tensorflow/lib/python3.9/site-packages/keras/engine/training.py\", line 1983, in predict_step\n        return self(x, training=False)\n    File \"/Users/tylerdurden/opt/miniconda3/envs/tensorflow/lib/python3.9/site-packages/keras/utils/traceback_utils.py\", line 70, in error_handler\n        raise e.with_traceback(filtered_tb) from None\n    File \"/Users/tylerdurden/opt/miniconda3/envs/tensorflow/lib/python3.9/site-packages/keras/engine/input_spec.py\", line 250, in assert_input_compatibility\n        raise ValueError(\n\n    ValueError: Exception encountered when calling layer \"inception_v3\" \"                 f\"(type Functional).\n    \n    Input 0 of layer \"conv2d\" is incompatible with the layer: expected min_ndim=4, found ndim=2. Full shape received: (None, 75)\n    \n    Call arguments received by layer \"inception_v3\" \"                 f\"(type Functional):\n      • inputs=tf.Tensor(shape=(None, 75), dtype=float32)\n      • training=False\n      • mask=None\n"
     ]
    }
   ],
   "source": [
    "from PIL import Image\n",
    "image1 = Image.open(\"img.png\")\n",
    "data = np.asarray(image1)\n",
    "model.predict(data)"
   ]
  },
  {
   "cell_type": "code",
   "execution_count": null,
   "metadata": {
    "pycharm": {
     "name": "#%%\n"
    }
   },
   "outputs": [],
   "source": []
  }
 ],
 "metadata": {
  "colab": {
   "authorship_tag": "ABX9TyNe5X/goFoKjda8UfRIT/vM",
   "collapsed_sections": [],
   "provenance": []
  },
  "kernelspec": {
   "display_name": "Python 3.9 (tensorflow)",
   "language": "python",
   "name": "tensorflow"
  },
  "language_info": {
   "codemirror_mode": {
    "name": "ipython",
    "version": 3
   },
   "file_extension": ".py",
   "mimetype": "text/x-python",
   "name": "python",
   "nbconvert_exporter": "python",
   "pygments_lexer": "ipython3",
   "version": "3.9.15"
  }
 },
 "nbformat": 4,
 "nbformat_minor": 1
}