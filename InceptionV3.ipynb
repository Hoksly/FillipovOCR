{
 "cells": [
  {
   "cell_type": "code",
   "execution_count": 1,
   "metadata": {
    "executionInfo": {
     "elapsed": 3255,
     "status": "ok",
     "timestamp": 1667603735286,
     "user": {
      "displayName": "ПІ-11 Практики",
      "userId": "07053419194244331719"
     },
     "user_tz": -120
    },
    "id": "chWjgM7MzviK"
   },
   "outputs": [],
   "source": [
    "import numpy as np\n",
    "import tensorflow as tf\n",
    "import tensorflow.keras.layers as tfl\n",
    "\n",
    "from tensorflow.keras import layers\n",
    "from tensorflow.keras.utils import normalize, to_categorical\n",
    "from tensorflow.keras.preprocessing.image import ImageDataGenerator"
   ]
  },
  {
   "cell_type": "code",
   "execution_count": 2,
   "metadata": {
    "colab": {
     "base_uri": "https://localhost:8080/"
    },
    "executionInfo": {
     "elapsed": 1790,
     "status": "ok",
     "timestamp": 1667603737062,
     "user": {
      "displayName": "ПІ-11 Практики",
      "userId": "07053419194244331719"
     },
     "user_tz": -120
    },
    "id": "b5ORN9ty5NyX",
    "outputId": "03e22a21-2a92-44d4-b352-f1c2e9b2d275"
   },
   "outputs": [
    {
     "name": "stdout",
     "output_type": "stream",
     "text": [
      "Drive already mounted at /content/drive; to attempt to forcibly remount, call drive.mount(\"/content/drive\", force_remount=True).\n"
     ]
    }
   ],
   "source": [
    "from google.colab import drive\n",
    "drive.mount('/content/drive')"
   ]
  },
  {
   "cell_type": "code",
   "execution_count": 3,
   "metadata": {
    "executionInfo": {
     "elapsed": 22,
     "status": "ok",
     "timestamp": 1667603737063,
     "user": {
      "displayName": "ПІ-11 Практики",
      "userId": "07053419194244331719"
     },
     "user_tz": -120
    },
    "id": "WdRESVRrz0X8"
   },
   "outputs": [],
   "source": [
    "# розмір картинки\n",
    "IMG_SIZE = (75, 75)\n",
    "\n",
    "# папка з датасетом у якій підпапки\n",
    "# з фотографіями кожного символа \n",
    "directory = \"/content/drive/MyDrive/Colab Notebooks/images/\"\n"
   ]
  },
  {
   "cell_type": "code",
   "execution_count": 4,
   "metadata": {
    "colab": {
     "base_uri": "https://localhost:8080/"
    },
    "executionInfo": {
     "elapsed": 15,
     "status": "ok",
     "timestamp": 1667603737063,
     "user": {
      "displayName": "ПІ-11 Практики",
      "userId": "07053419194244331719"
     },
     "user_tz": -120
    },
    "id": "0pit3_-fcfhO",
    "outputId": "b9c36bef-ce9e-4b4e-99b5-9c347f01473a"
   },
   "outputs": [
    {
     "name": "stdout",
     "output_type": "stream",
     "text": [
      "Found 286 images belonging to 29 classes.\n",
      "Found 55 images belonging to 29 classes.\n"
     ]
    }
   ],
   "source": [
    "data_generator = ImageDataGenerator(validation_split=0.2, rescale=1.0/255)\n",
    " \n",
    "# датасет для тренування\n",
    "train_data = data_generator.flow_from_directory(directory,\n",
    "                                               target_size=IMG_SIZE,\n",
    "                                               class_mode='categorical',\n",
    "                                               subset='training')\n",
    "\n",
    "# датасет для тестування\n",
    "test_data = data_generator.flow_from_directory(directory,\n",
    "                                               target_size=IMG_SIZE,\n",
    "                                               class_mode='categorical',\n",
    "                                               subset='validation')"
   ]
  },
  {
   "cell_type": "code",
   "execution_count": 9,
   "metadata": {
    "executionInfo": {
     "elapsed": 271,
     "status": "ok",
     "timestamp": 1667603792575,
     "user": {
      "displayName": "ПІ-11 Практики",
      "userId": "07053419194244331719"
     },
     "user_tz": -120
    },
    "id": "egHSBZ_l-bzo"
   },
   "outputs": [],
   "source": [
    "def createModel(image_shape = IMG_SIZE):\n",
    "    '''\n",
    "    Arguments:\n",
    "        image_shape -- Image width and height\n",
    "        data_augmentation -- data augmentation function\n",
    "    Returns:\n",
    "        tf.keras.model\n",
    "    '''\n",
    "    input_shape = image_shape + (3,)\n",
    "    \n",
    "    base_model = tf.keras.applications.InceptionV3(input_shape = input_shape,\n",
    "                                               include_top = False,\n",
    "                                               weights = \"imagenet\",\n",
    "                                               classes = 29,\n",
    "                                               classifier_activation = \"softmax\")\n",
    "    # заморозимо шари, щоб їх не тренувати\n",
    "    base_model.trainable = False\n",
    "\n",
    "    # вхідний шар\n",
    "    inputs = tf.keras.Input(shape = input_shape) \n",
    "\n",
    "    # для нормалізації інпута [-1;1]\n",
    "    x = tf.keras.applications.inception_v3.preprocess_input(inputs) \n",
    "\n",
    "    x = base_model(x, training = False) \n",
    "    x = tfl.GlobalAveragePooling2D()(x) \n",
    "    x = tfl.Dropout(0.2)(x)\n",
    "    outputs = tfl.Dense(29, activation = \"softmax\")(x)\n",
    "    \n",
    "    model = tf.keras.Model(inputs, outputs)\n",
    "    \n",
    "    return model"
   ]
  },
  {
   "cell_type": "code",
   "execution_count": 10,
   "metadata": {
    "executionInfo": {
     "elapsed": 3484,
     "status": "ok",
     "timestamp": 1667603797104,
     "user": {
      "displayName": "ПІ-11 Практики",
      "userId": "07053419194244331719"
     },
     "user_tz": -120
    },
    "id": "0tWxbnXJ-p7b"
   },
   "outputs": [],
   "source": [
    "model = createModel(IMG_SIZE)"
   ]
  },
  {
   "cell_type": "code",
   "execution_count": 11,
   "metadata": {
    "executionInfo": {
     "elapsed": 17,
     "status": "ok",
     "timestamp": 1667603797105,
     "user": {
      "displayName": "ПІ-11 Практики",
      "userId": "07053419194244331719"
     },
     "user_tz": -120
    },
    "id": "kINHN1aD_aEl"
   },
   "outputs": [],
   "source": [
    "model.compile(optimizer='adam', loss='categorical_crossentropy', metrics='accuracy')"
   ]
  },
  {
   "cell_type": "code",
   "execution_count": 12,
   "metadata": {
    "colab": {
     "base_uri": "https://localhost:8080/"
    },
    "executionInfo": {
     "elapsed": 36879,
     "status": "ok",
     "timestamp": 1667603833974,
     "user": {
      "displayName": "ПІ-11 Практики",
      "userId": "07053419194244331719"
     },
     "user_tz": -120
    },
    "id": "GECcF1w__cP2",
    "outputId": "92a4d34a-7523-4b71-e0f1-e1db23e1a3ea"
   },
   "outputs": [
    {
     "name": "stdout",
     "output_type": "stream",
     "text": [
      "Epoch 1/10\n",
      "9/9 [==============================] - 7s 420ms/step - loss: 3.3331 - accuracy: 0.1014 - val_loss: 2.0263 - val_accuracy: 0.6000\n",
      "Epoch 2/10\n",
      "9/9 [==============================] - 2s 262ms/step - loss: 2.2092 - accuracy: 0.3916 - val_loss: 1.3577 - val_accuracy: 0.7818\n",
      "Epoch 3/10\n",
      "9/9 [==============================] - 2s 267ms/step - loss: 1.6237 - accuracy: 0.6434 - val_loss: 0.9508 - val_accuracy: 0.8727\n",
      "Epoch 4/10\n",
      "9/9 [==============================] - 3s 294ms/step - loss: 1.2504 - accuracy: 0.7483 - val_loss: 0.6887 - val_accuracy: 0.9455\n",
      "Epoch 5/10\n",
      "9/9 [==============================] - 2s 265ms/step - loss: 0.9993 - accuracy: 0.7972 - val_loss: 0.5472 - val_accuracy: 0.9455\n",
      "Epoch 6/10\n",
      "9/9 [==============================] - 4s 453ms/step - loss: 0.8151 - accuracy: 0.8462 - val_loss: 0.4399 - val_accuracy: 0.9455\n",
      "Epoch 7/10\n",
      "9/9 [==============================] - 3s 353ms/step - loss: 0.6612 - accuracy: 0.8881 - val_loss: 0.3575 - val_accuracy: 0.9636\n",
      "Epoch 8/10\n",
      "9/9 [==============================] - 2s 263ms/step - loss: 0.5905 - accuracy: 0.8776 - val_loss: 0.3102 - val_accuracy: 0.9636\n",
      "Epoch 9/10\n",
      "9/9 [==============================] - 2s 261ms/step - loss: 0.4734 - accuracy: 0.9091 - val_loss: 0.2763 - val_accuracy: 0.9818\n",
      "Epoch 10/10\n",
      "9/9 [==============================] - 2s 269ms/step - loss: 0.4414 - accuracy: 0.9196 - val_loss: 0.2487 - val_accuracy: 0.9818\n"
     ]
    }
   ],
   "source": [
    "history = model.fit(train_data, validation_data = test_data, epochs = 10)"
   ]
  }
 ],
 "metadata": {
  "colab": {
   "authorship_tag": "ABX9TyNe5X/goFoKjda8UfRIT/vM",
   "collapsed_sections": [],
   "provenance": []
  },
  "kernelspec": {
   "display_name": "Python 3 (ipykernel)",
   "language": "python",
   "name": "python3"
  },
  "language_info": {
   "codemirror_mode": {
    "name": "ipython",
    "version": 3
   },
   "file_extension": ".py",
   "mimetype": "text/x-python",
   "name": "python",
   "nbconvert_exporter": "python",
   "pygments_lexer": "ipython3",
   "version": "3.7.13"
  }
 },
 "nbformat": 4,
 "nbformat_minor": 1
}
